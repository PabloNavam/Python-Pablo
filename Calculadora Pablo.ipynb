{
  "cells": [
    {
      "cell_type": "markdown",
      "metadata": {
        "id": "view-in-github",
        "colab_type": "text"
      },
      "source": [
        "<a href=\"https://colab.research.google.com/github/PabloNavam/Python-Pablo/blob/main/Calculadora%20Pablo.ipynb\" target=\"_parent\"><img src=\"https://colab.research.google.com/assets/colab-badge.svg\" alt=\"Open In Colab\"/></a>"
      ]
    },
    {
      "cell_type": "code",
      "source": [
        "print(\"\"\"\\\n",
        "        \n",
        "        \"Esta es una calculadora sencilla\",\n",
        "\n",
        "        \"\"\"\")\n",
        "n1 = float(input(\\\"Introduce tu primer número: \"))\n",
        "n2 = float(input(\\\"Introduce tu segundo número: \")\n",
        "        \n",
        "opcion =0\n",
        "       \n",
        "while True:\n",
        "      print(\"\"\"\n",
        "      ¿Qué operación deseas realizar?\\\n",
        "      1) Sumar los dos números\n",
        "      2) Restar los dos números\n",
        "      3) Multiplicar los dos números\n",
        "      4) Cambiar los números elegidos\n",
        "      5) Apagar calculadora\n",
        "      \"\"\")\n",
        "\n",
        "opcion = (input(\"Elige una opción: \"))\n",
        "\n",
        "    if opcion == 1:\n",
        "          print(\" \")\n",
        "          print(\"RESULTADO: La suma de\",n1,\"+\",n2,\"es igual a\",n1+n2)\n",
        "        \n",
        "    Elseif opcion == 2:\n",
        "      print(\" \")\n",
        "      print(\"RESULTADO: La resta de\",n1,\"-\",n2,\"es igual a\",n1-n2)\n",
        "    \n",
        "    elseif opcion == 3:\\n\",\n",
        "        \"        print(\\\" \\\")\\n\",\n",
        "        \"        print(\\\"RESULTADO: El producto de\\\",n1,\\\"*\\\",n2,\\\"es igual a\\\",n1*n2)\\n\",\n",
        "        \"      \\n\",\n",
        "        \"    elif opcion == 4:\\n\",\n",
        "        \"        n1 = float(input(\\\"Introduce tu primer número: \\\") )\\n\",\n",
        "        \"        n2 = float(input(\\\"Introduce tu segundo número: \\\") )\\n\",\n",
        "        \"        \\n\",\n",
        "        \"    elif opcion == 5:\\n\",\n",
        "        \"        break\\n\",\n",
        "        \"    else:\\n\",\n",
        "        \"        print(\\\"Opción incorrecta\\\")\\n\",\n",
        "        \"        \\n\""
      ],
      "metadata": {
        "id": "9dvH8JZwciRz"
      },
      "execution_count": null,
      "outputs": []
    }
  ],
  "metadata": {
    "colab": {
      "collapsed_sections": [],
      "name": "Te damos la bienvenida a Colaboratory",
      "provenance": [],
      "include_colab_link": true
    },
    "kernelspec": {
      "display_name": "Python 3",
      "name": "python3"
    }
  },
  "nbformat": 4,
  "nbformat_minor": 0
}